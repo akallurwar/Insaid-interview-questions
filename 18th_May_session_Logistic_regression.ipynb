{
  "nbformat": 4,
  "nbformat_minor": 0,
  "metadata": {
    "colab": {
      "name": "18th May session_Logistic regression.ipynb",
      "version": "0.3.2",
      "provenance": [],
      "include_colab_link": true
    },
    "kernelspec": {
      "name": "python3",
      "display_name": "Python 3"
    }
  },
  "cells": [
    {
      "cell_type": "markdown",
      "metadata": {
        "id": "view-in-github",
        "colab_type": "text"
      },
      "source": [
        "<a href=\"https://colab.research.google.com/github/akallurwar/Insaid-interview-questions/blob/master/18th_May_session_Logistic_regression.ipynb\" target=\"_parent\"><img src=\"https://colab.research.google.com/assets/colab-badge.svg\" alt=\"Open In Colab\"/></a>"
      ]
    },
    {
      "cell_type": "code",
      "metadata": {
        "id": "-tOPoQp0qlD1",
        "colab_type": "code",
        "colab": {
          "base_uri": "https://localhost:8080/",
          "height": 131
        },
        "outputId": "129544c1-e78f-4a93-df2c-af90be953f58"
      },
      "source": [
        "                                                      ## 18th May session: Logistic regression\n",
        "\n",
        "#### Exploration of EDA using plotly\n",
        "https://www.plotly.express\n",
        "\n",
        "__How to see overlapping in the data?__\n",
        "Ans: plotly shows but Lavi said that there are techniques to see te overlap & how to go about it.\n",
        "If we add more data points, then we would be able to know overlap.\n",
        "If we remove overlapped columns, then we get good model\n",
        "For ex. If we remove sepal length & sepal width which is almost 50% of my data, then also we can do the prediction because other 2 columns also have 3 classes which we require to make predictions. \n",
        "\n",
        "__Good things:__\n",
        "\n",
        "-\tThe prediction with 2 columns is always better than 4 columns because it gives more accurate results & faster than 4 columns. So its always better to work on less amount of data than higher amount.\n",
        "\n",
        "__Bad things:__\n",
        "-\t2 columns are important in business point of view and business doesn’t want them to remove.\n",
        "\n",
        "__But there are 2 problems:__\n",
        "-\tIf we remove 2 columns from 4, you are getting rid of the important information in regards to prediction.\n",
        "-\tDomain perspective as domain expertise doesn’t want to remove 2 columns in business point of you, may be it will lose out some business information.\n",
        "\n",
        "### Questions:\n",
        "__1.\tWhy do we do we use log (p/1-p)?__\n",
        "__2.\tWhat is (p/1-p)?__\n",
        "__3.\tWhy we use odds and not likelihood?__\n",
        "We are looking for likelihood of success v/s failure or we are interested in likelihood of something happening to something not happening \n",
        "\n",
        "__4.\tWhy do we use log?__\n",
        "To normalise bcz normalisation is simple and once we use odds then we get values ranges from 0 to infinity.\n",
        "(p/1-p) – odds : probability between 0 to infinity\n",
        "Log(odds) – Bets 0 + beta1x – probability between -infinity to +infinity \n",
        "We want p value between 0 & 1 that’s why we use log(odds)\n",
        "\n",
        "__5.\tWhat is logit function?__\n",
        "log(p/1-p) = beta0+beta1 x is the logit function\n",
        "It does not give s shaped curve\n",
        "\n",
        "__6.\tWhat is sigmoid function?__ \n",
        "(P Values) (It gives s shaped curve)\n",
        "Inverse of logit function is called the sigmoid function\n",
        "P = e to the power (beta0+ beta1x)/(1 +e to the power (beta0+ beta1x))\n",
        "P value ranges from 0 to 1\n",
        "\n",
        "__7.\tWhy do we need P value between 0 & 1__\n",
        "Bcz it’s a classification problem/ category in 0 & 1\n",
        "\n",
        "__Some Information:__\n",
        "•\tThe sigmoid function is used in deep leaning(Activation functions)\n",
        "•\tWe are using binary classification problem which has 2 class but we can use multinomial classification (where we can use more than 2 class)\n",
        "•\tEx. If we have 5 classes, x vs not x, 1 vs not 1,, 2 vs not 2…etc means we are building 5 models todo the classification of \n",
        "•\tDummy as the feature & dummy (x vs not x) as class perspective\n",
        "\n",
        "__8.\tWhy do logistic regression is benchmark model?__\n",
        " It’s a standard, Simple & efficient, low variance (Probability & the normalize ranges, what happens is even f we have huge variation in the data, then we are still in the range of values between 0 & 1)\n",
        "\n",
        "__9.\tMost common benchmark that we can use before the selection of model?__\n",
        "Use dummy classifier\n",
        "\n",
        "__10.\tHow to address missing value__\n",
        " less than 2-3%/<1 million missing value then its good enough to remove the column?\n",
        "If we have more than 5% />1 million then best way is add mean/median, even we can use model to predict missing values\n",
        "-\tMean/Median\n",
        "Global & local:\n",
        "Global is get the mean/median of the particular column\n",
        "Local is get the all column mean /median\n",
        "-\tRemoving rows\n",
        "Model based: Global n local"
      ],
      "execution_count": 1,
      "outputs": [
        {
          "output_type": "error",
          "ename": "SyntaxError",
          "evalue": "ignored",
          "traceback": [
            "\u001b[0;36m  File \u001b[0;32m\"<ipython-input-1-9bd219600b4d>\"\u001b[0;36m, line \u001b[0;32m1\u001b[0m\n\u001b[0;31m    https://www.plotly.express\u001b[0m\n\u001b[0m           ^\u001b[0m\n\u001b[0;31mSyntaxError\u001b[0m\u001b[0;31m:\u001b[0m invalid syntax\n"
          ]
        }
      ]
    }
  ]
}